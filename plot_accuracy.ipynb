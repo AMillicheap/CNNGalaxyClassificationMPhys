{
 "cells": [
  {
   "cell_type": "code",
   "execution_count": null,
   "metadata": {},
   "outputs": [],
   "source": [
    "# -*- coding: utf-8 -*-\n",
    "\"\"\"\n",
    "Created on Tue Oct 11 09:39:51 2022\n",
    "\n",
    "@author: samhu\n",
    "\"\"\"\n",
    "\n",
    "import numpy as np\n",
    "import csv\n",
    "import matplotlib.pyplot as plt\n",
    "from plots import plot_err_csv\n",
    "from plots import plot_loss_csv\n",
    "from plots import plot_loss_multi\n",
    "\n",
    "def main():\n",
    "    #csv_file = open('mirabest_lenet.csv')\n",
    "    #plot_err_csv(csv_file)\n",
    "    #plot_loss_csv(csv_file)\n",
    "    plot_loss_multi(dataset='cn',N=40)\n",
    "    \n",
    "    return\n",
    "\n",
    "main()"
   ]
  }
 ],
 "metadata": {
  "kernelspec": {
   "display_name": "Python 3",
   "language": "python",
   "name": "python3"
  },
  "language_info": {
   "codemirror_mode": {
    "name": "ipython",
    "version": 3
   },
   "file_extension": ".py",
   "mimetype": "text/x-python",
   "name": "python",
   "nbconvert_exporter": "python",
   "pygments_lexer": "ipython3",
   "version": "3.8.5"
  }
 },
 "nbformat": 4,
 "nbformat_minor": 4
}
